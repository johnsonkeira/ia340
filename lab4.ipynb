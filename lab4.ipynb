{
 "cells": [
  {
   "cell_type": "code",
   "execution_count": null,
   "id": "e54a49ed",
   "metadata": {},
   "outputs": [],
   "source": [
    "import pandas\n",
    "import configparser\n",
    "import psycopg2"
   ]
  },
  {
   "cell_type": "code",
   "execution_count": null,
   "id": "3608dbea",
   "metadata": {},
   "outputs": [],
   "source": [
    "config = configparser.ConfigParser()\n",
    "config.read('config.ini')\n",
    "\n",
    "db = config['myaws']['db']\n",
    "host = config['myaws']['host']\n",
    "user = config['myaws']['user']\n",
    "pwd = config['myaws']['pwd']"
   ]
  },
  {
   "cell_type": "code",
   "execution_count": null,
   "id": "eda8c434",
   "metadata": {},
   "outputs": [],
   "source": [
    "conn = psycopg2.connect(\n",
    "                        host = host,\n",
    "                        user = user,\n",
    "                        password = pwd,\n",
    "                        dbname = db)"
   ]
  },
  {
   "cell_type": "markdown",
   "id": "870df566",
   "metadata": {},
   "source": [
    "# Question 1"
   ]
  },
  {
   "cell_type": "code",
   "execution_count": null,
   "id": "b195e29b",
   "metadata": {},
   "outputs": [],
   "source": [
    "sql = \"select * from student\""
   ]
  },
  {
   "cell_type": "code",
   "execution_count": null,
   "id": "ee45be80",
   "metadata": {},
   "outputs": [],
   "source": [
    "df = pandas.read_sql_query(sql,conn)\n",
    "df[:]"
   ]
  },
  {
   "cell_type": "markdown",
   "id": "a47eb501",
   "metadata": {},
   "source": [
    "# Question 2"
   ]
  },
  {
   "cell_type": "code",
   "execution_count": null,
   "id": "917b3579",
   "metadata": {},
   "outputs": [],
   "source": [
    "cur = conn.cursor()"
   ]
  },
  {
   "cell_type": "code",
   "execution_count": null,
   "id": "ca47dd17",
   "metadata": {},
   "outputs": [],
   "source": [
    "sql = \"\"\"  \n",
    "insert into professor(p_email,p_name, office )\n",
    "values   ('p2@jmu.edu','p2','o2') ;\n",
    "\"\"\""
   ]
  },
  {
   "cell_type": "code",
   "execution_count": null,
   "id": "1852561f",
   "metadata": {},
   "outputs": [],
   "source": [
    "sql = \"\"\"  \n",
    "insert into professor(p_email,p_name, office )\n",
    "values   ('p3@jmu.edu','p3','o3' ) ;\n",
    "\"\"\""
   ]
  },
  {
   "cell_type": "code",
   "execution_count": null,
   "id": "e69a78f9",
   "metadata": {},
   "outputs": [],
   "source": [
    "sql = \"\"\"\n",
    "select professor.p_name,\n",
    "course.c_name \n",
    "from professor\n",
    "inner join course\n",
    "on professor.p_email = course.p_email \n",
    "\n",
    "\"\"\""
   ]
  },
  {
   "cell_type": "code",
   "execution_count": null,
   "id": "8b1c16ab",
   "metadata": {},
   "outputs": [],
   "source": [
    "df = pandas.read_sql_query(sql,conn)\n",
    "df[:]"
   ]
  },
  {
   "cell_type": "markdown",
   "id": "b88b2e42",
   "metadata": {},
   "source": [
    "# Question 3"
   ]
  },
  {
   "cell_type": "code",
   "execution_count": null,
   "id": "dbd9111a",
   "metadata": {},
   "outputs": [],
   "source": [
    "sql = \"\"\"\n",
    "select c_number, count(*) as num_student\n",
    "from enroll\n",
    "group by c_number\n",
    "order by num_student desc\n",
    "\"\"\""
   ]
  },
  {
   "cell_type": "code",
   "execution_count": null,
   "id": "374f01a0",
   "metadata": {},
   "outputs": [],
   "source": [
    "sql = \"\"\"  \n",
    "insert into course(c_number,c_name,room,p_email)\n",
    "values  ('c2', 'mongodb', 'r2', 'p2@jmu.edu')\n",
    "\"\"\""
   ]
  },
  {
   "cell_type": "code",
   "execution_count": null,
   "id": "511165dc",
   "metadata": {},
   "outputs": [],
   "source": [
    "sql = \"\"\"  \n",
    "insert into course(c_number,c_name,room,p_email)\n",
    "values  ('c4', 'facebook', 'r1', 'p3@jmu.edu')\n",
    "\"\"\""
   ]
  },
  {
   "cell_type": "code",
   "execution_count": null,
   "id": "d88808c6",
   "metadata": {},
   "outputs": [],
   "source": [
    "sql = \"\"\"  \n",
    "insert into course(c_number,c_name,room,p_email)\n",
    "values  ('c1', 'postgresql', 'r1', 'p3@jmu.edu')\n",
    "\"\"\""
   ]
  },
  {
   "cell_type": "code",
   "execution_count": null,
   "id": "edccffd5",
   "metadata": {},
   "outputs": [],
   "source": [
    "sql = \"\"\"  \n",
    "insert into course(c_number,c_name,room,p_email)\n",
    "values  ('c3', 'twitter', 'r1', 'p3@jmu.edu')\n",
    "\"\"\""
   ]
  },
  {
   "cell_type": "code",
   "execution_count": null,
   "id": "2759489a",
   "metadata": {},
   "outputs": [],
   "source": [
    "sql = \"\"\"  \n",
    "insert into course(c_number,c_name,room,p_email)\n",
    "values  ('c5', 'lindedin', 'r2', 'p4@jmu.edu')\n",
    "\"\"\""
   ]
  },
  {
   "cell_type": "code",
   "execution_count": null,
   "id": "b0a856c8",
   "metadata": {},
   "outputs": [],
   "source": [
    "cur.execute(sql)"
   ]
  },
  {
   "cell_type": "code",
   "execution_count": null,
   "id": "9d95be39",
   "metadata": {},
   "outputs": [],
   "source": [
    "conn.commit()"
   ]
  },
  {
   "cell_type": "code",
   "execution_count": null,
   "id": "a5f0f149",
   "metadata": {},
   "outputs": [],
   "source": [
    "df = pandas.read_sql_query(sql,conn)\n",
    "df.plot.bar(x='c_number',y='num_student')"
   ]
  },
  {
   "cell_type": "markdown",
   "id": "2e7d13ef",
   "metadata": {},
   "source": [
    "# Question 4"
   ]
  },
  {
   "cell_type": "code",
   "execution_count": null,
   "id": "f979ac4e",
   "metadata": {},
   "outputs": [],
   "source": [
    "sql =\"\"\"\n",
    "SELECT professor.p_name, COUNT(course.c_number) AS num_courses_taught\n",
    "FROM professor\n",
    "INNER JOIN course ON professor.p_email = course.p_email\n",
    "GROUP BY professor.p_name\n",
    "ORDER BY num_courses_taught DESC\n",
    "\"\"\""
   ]
  },
  {
   "cell_type": "code",
   "execution_count": null,
   "id": "81144a79",
   "metadata": {},
   "outputs": [],
   "source": [
    "df = pandas.read_sql_query(sql,conn)\n",
    "df.plot.bar(x='p_name',y='num_courses_taught')"
   ]
  },
  {
   "cell_type": "markdown",
   "id": "fc588121",
   "metadata": {},
   "source": [
    "# Question 5"
   ]
  },
  {
   "cell_type": "code",
   "execution_count": null,
   "id": "5c91963f",
   "metadata": {},
   "outputs": [],
   "source": [
    "cur = conn.cursor()"
   ]
  },
  {
   "cell_type": "code",
   "execution_count": null,
   "id": "3e47a088",
   "metadata": {},
   "outputs": [],
   "source": [
    "sql = \"\"\"  \n",
    "insert into professor(p_email,p_name, office )\n",
    "values   ('p4@jmu.edu','p4','o4' ) ;\n",
    "\"\"\""
   ]
  },
  {
   "cell_type": "code",
   "execution_count": null,
   "id": "ddaca3d1",
   "metadata": {},
   "outputs": [],
   "source": [
    "cur.execute(sql)"
   ]
  },
  {
   "cell_type": "code",
   "execution_count": null,
   "id": "db2a2f6d",
   "metadata": {},
   "outputs": [],
   "source": [
    "conn.commit()"
   ]
  },
  {
   "cell_type": "code",
   "execution_count": null,
   "id": "83ccf4a9",
   "metadata": {},
   "outputs": [],
   "source": [
    "df= pandas.read_sql_query('select * from professor',conn)\n",
    "df[:]"
   ]
  },
  {
   "cell_type": "code",
   "execution_count": null,
   "id": "e220e7e0",
   "metadata": {},
   "outputs": [],
   "source": [
    "df= pandas.read_sql_query('select * from course',conn)\n",
    "df[:]"
   ]
  },
  {
   "cell_type": "code",
   "execution_count": null,
   "id": "34561fe2",
   "metadata": {},
   "outputs": [],
   "source": []
  }
 ],
 "metadata": {
  "kernelspec": {
   "display_name": "conda_python3",
   "language": "python",
   "name": "conda_python3"
  },
  "language_info": {
   "codemirror_mode": {
    "name": "ipython",
    "version": 3
   },
   "file_extension": ".py",
   "mimetype": "text/x-python",
   "name": "python",
   "nbconvert_exporter": "python",
   "pygments_lexer": "ipython3",
   "version": "3.10.12"
  }
 },
 "nbformat": 4,
 "nbformat_minor": 5
}
